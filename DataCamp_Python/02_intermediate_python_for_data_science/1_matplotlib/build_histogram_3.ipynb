{
 "cells": [
  {
   "cell_type": "markdown",
   "metadata": {},
   "source": [
    "'''\n",
    "### Build a histogram (3): compare  \n",
    "100xp  \n",
    "In the video, you saw population pyramids for the present day and for the future.  \n",
    "Because we were using a histogram, it was very easy to make a comparison.\n",
    "\n",
    "Let's do a similar comparison. life_exp contains life expectancy data for different\n",
    "countries in 2007. You also have access to a second list now, life_exp1950, containing\n",
    "similar data for 1950. Can you make a histogram for both datasets?\n",
    "\n",
    "You'll again be making two plots. The plt.show() and plt.clf() commands to render\n",
    "everything nicely are already included. Also matplotlib.pyplot is imported for you, as plt.\n",
    "\n",
    "\n",
    "### Instructions\n",
    "- Build a histogram of life_exp with 15 bins.\n",
    "- Build a histogram of life_exp1950, also with 15 bins. Is there a big difference with the histogram for the 2007 data?  \n",
    "'''"
   ]
  },
  {
   "cell_type": "code",
   "execution_count": 1,
   "metadata": {},
   "outputs": [
    {
     "name": "stdout",
     "output_type": "stream",
     "text": [
      "      Unnamed: 0                   country    population      cont  life_exp  \\\n",
      "year                                                                           \n",
      "2007          11               Afghanistan  3.188992e+07      Asia    43.828   \n",
      "2007          23                   Albania  3.600523e+06    Europe    76.423   \n",
      "2007          35                   Algeria  3.333322e+07    Africa    72.301   \n",
      "2007          47                    Angola  1.242048e+07    Africa    42.731   \n",
      "2007          59                 Argentina  4.030193e+07  Americas    75.320   \n",
      "2007          71                 Australia  2.043418e+07   Oceania    81.235   \n",
      "2007          83                   Austria  8.199783e+06    Europe    79.829   \n",
      "2007          95                   Bahrain  7.085730e+05      Asia    75.635   \n",
      "2007         107                Bangladesh  1.504483e+08      Asia    64.062   \n",
      "2007         119                   Belgium  1.039223e+07    Europe    79.441   \n",
      "2007         131                     Benin  8.078314e+06    Africa    56.728   \n",
      "2007         143                   Bolivia  9.119152e+06  Americas    65.554   \n",
      "2007         155    Bosnia and Herzegovina  4.552198e+06    Europe    74.852   \n",
      "2007         167                  Botswana  1.639131e+06    Africa    50.728   \n",
      "2007         179                    Brazil  1.900106e+08  Americas    72.390   \n",
      "2007         191                  Bulgaria  7.322858e+06    Europe    73.005   \n",
      "2007         203              Burkina Faso  1.432620e+07    Africa    52.295   \n",
      "2007         215                   Burundi  8.390505e+06    Africa    49.580   \n",
      "2007         227                  Cambodia  1.413186e+07      Asia    59.723   \n",
      "2007         239                  Cameroon  1.769629e+07    Africa    50.430   \n",
      "2007         251                    Canada  3.339014e+07  Americas    80.653   \n",
      "2007         263  Central African Republic  4.369038e+06    Africa    44.741   \n",
      "2007         275                      Chad  1.023881e+07    Africa    50.651   \n",
      "2007         287                     Chile  1.628474e+07  Americas    78.553   \n",
      "2007         299                     China  1.318683e+09      Asia    72.961   \n",
      "2007         311                  Colombia  4.422755e+07  Americas    72.889   \n",
      "2007         323                   Comoros  7.109600e+05    Africa    65.152   \n",
      "2007         335          Congo, Dem. Rep.  6.460676e+07    Africa    46.462   \n",
      "2007         347               Congo, Rep.  3.800610e+06    Africa    55.322   \n",
      "2007         359                Costa Rica  4.133884e+06  Americas    78.782   \n",
      "...          ...                       ...           ...       ...       ...   \n",
      "2007        1355              Sierra Leone  6.144562e+06    Africa    42.568   \n",
      "2007        1367                 Singapore  4.553009e+06      Asia    79.972   \n",
      "2007        1379           Slovak Republic  5.447502e+06    Europe    74.663   \n",
      "2007        1391                  Slovenia  2.009245e+06    Europe    77.926   \n",
      "2007        1403                   Somalia  9.118773e+06    Africa    48.159   \n",
      "2007        1415              South Africa  4.399783e+07    Africa    49.339   \n",
      "2007        1427                     Spain  4.044819e+07    Europe    80.941   \n",
      "2007        1439                 Sri Lanka  2.037824e+07      Asia    72.396   \n",
      "2007        1451                     Sudan  4.229293e+07    Africa    58.556   \n",
      "2007        1463                 Swaziland  1.133066e+06    Africa    39.613   \n",
      "2007        1475                    Sweden  9.031088e+06    Europe    80.884   \n",
      "2007        1487               Switzerland  7.554661e+06    Europe    81.701   \n",
      "2007        1499                     Syria  1.931475e+07      Asia    74.143   \n",
      "2007        1511                    Taiwan  2.317429e+07      Asia    78.400   \n",
      "2007        1523                  Tanzania  3.813964e+07    Africa    52.517   \n",
      "2007        1535                  Thailand  6.506815e+07      Asia    70.616   \n",
      "2007        1547                      Togo  5.701579e+06    Africa    58.420   \n",
      "2007        1559       Trinidad and Tobago  1.056608e+06  Americas    69.819   \n",
      "2007        1571                   Tunisia  1.027616e+07    Africa    73.923   \n",
      "2007        1583                    Turkey  7.115865e+07    Europe    71.777   \n",
      "2007        1595                    Uganda  2.917040e+07    Africa    51.542   \n",
      "2007        1607            United Kingdom  6.077624e+07    Europe    79.425   \n",
      "2007        1619             United States  3.011399e+08  Americas    78.242   \n",
      "2007        1631                   Uruguay  3.447496e+06  Americas    76.384   \n",
      "2007        1643                 Venezuela  2.608466e+07  Americas    73.747   \n",
      "2007        1655                   Vietnam  8.526236e+07      Asia    74.249   \n",
      "2007        1667        West Bank and Gaza  4.018332e+06      Asia    73.422   \n",
      "2007        1679               Yemen, Rep.  2.221174e+07      Asia    62.698   \n",
      "2007        1691                    Zambia  1.174604e+07    Africa    42.384   \n",
      "2007        1703                  Zimbabwe  1.231114e+07    Africa    43.487   \n",
      "\n",
      "           gdp_cap  \n",
      "year                \n",
      "2007    974.580338  \n",
      "2007   5937.029526  \n",
      "2007   6223.367465  \n",
      "2007   4797.231267  \n",
      "2007  12779.379640  \n",
      "2007  34435.367440  \n",
      "2007  36126.492700  \n",
      "2007  29796.048340  \n",
      "2007   1391.253792  \n",
      "2007  33692.605080  \n",
      "2007   1441.284873  \n",
      "2007   3822.137084  \n",
      "2007   7446.298803  \n",
      "2007  12569.851770  \n",
      "2007   9065.800825  \n",
      "2007  10680.792820  \n",
      "2007   1217.032994  \n",
      "2007    430.070692  \n",
      "2007   1713.778686  \n",
      "2007   2042.095240  \n",
      "2007  36319.235010  \n",
      "2007    706.016537  \n",
      "2007   1704.063724  \n",
      "2007  13171.638850  \n",
      "2007   4959.114854  \n",
      "2007   7006.580419  \n",
      "2007    986.147879  \n",
      "2007    277.551859  \n",
      "2007   3632.557798  \n",
      "2007   9645.061420  \n",
      "...            ...  \n",
      "2007    862.540756  \n",
      "2007  47143.179640  \n",
      "2007  18678.314350  \n",
      "2007  25768.257590  \n",
      "2007    926.141068  \n",
      "2007   9269.657808  \n",
      "2007  28821.063700  \n",
      "2007   3970.095407  \n",
      "2007   2602.394995  \n",
      "2007   4513.480643  \n",
      "2007  33859.748350  \n",
      "2007  37506.419070  \n",
      "2007   4184.548089  \n",
      "2007  28718.276840  \n",
      "2007   1107.482182  \n",
      "2007   7458.396327  \n",
      "2007    882.969944  \n",
      "2007  18008.509240  \n",
      "2007   7092.923025  \n",
      "2007   8458.276384  \n",
      "2007   1056.380121  \n",
      "2007  33203.261280  \n",
      "2007  42951.653090  \n",
      "2007  10611.462990  \n",
      "2007  11415.805690  \n",
      "2007   2441.576404  \n",
      "2007   3025.349798  \n",
      "2007   2280.769906  \n",
      "2007   1271.211593  \n",
      "2007    469.709298  \n",
      "\n",
      "[142 rows x 6 columns]\n"
     ]
    }
   ],
   "source": [
    "import pandas  as pd\n",
    "data = pd.read_csv(\"../intermediate_python_datasets/gapminder.csv\", index_col='year')\n",
    "print(data)"
   ]
  },
  {
   "cell_type": "code",
   "execution_count": 2,
   "metadata": {},
   "outputs": [
    {
     "name": "stdout",
     "output_type": "stream",
     "text": [
      "year\n",
      "2007    43.828\n",
      "2007    76.423\n",
      "2007    72.301\n",
      "2007    42.731\n",
      "2007    75.320\n",
      "Name: life_exp, dtype: float64\n",
      "year\n",
      "2007    74.249\n",
      "2007    73.422\n",
      "2007    62.698\n",
      "2007    42.384\n",
      "2007    43.487\n",
      "Name: life_exp, dtype: float64\n"
     ]
    }
   ],
   "source": [
    "life_exp = data.iloc[:, 4]\n",
    "print(life_exp.head())\n",
    "print(life_exp.tail())"
   ]
  },
  {
   "cell_type": "code",
   "execution_count": 6,
   "metadata": {},
   "outputs": [],
   "source": [
    "life_exp1950 = [28.8,55.23,43.08,30.02,62.48,69.12,66.8,50.94,37.48,68.0,38.22,40.41,53.82,47.62,50.92,59.6,31.98,39.03,39.42,38.52,68.75,35.46,38.09,54.74,44.0,50.64,40.72,39.14,42.11,57.21,40.48,61.21,59.42,66.87,70.78,34.81,45.93,48.36,41.89,45.26,34.48,35.93,34.08,66.55,67.41,37.0,30.0,67.5,43.15,65.86,42.02,33.61,32.5,37.58,41.91,60.96,64.03,72.49,37.37,37.47,44.87,45.32,66.91,65.39,65.94,58.53,63.03,43.16,42.27,50.06,47.45,55.56,55.93,42.14,38.48,42.72,36.68,36.26,48.46,33.68,40.54,50.99,50.79,42.24,59.16,42.87,31.29,36.32,41.72,36.16,72.13,69.39,42.31,37.44,36.32,72.67,37.58,43.44,55.19,62.65,43.9,47.75,61.31,59.82,64.28,52.72,61.05,40.0,46.47,39.88,37.28,58.0,30.33,60.4,64.36,65.57,32.98,45.01,64.94,57.59,38.64,41.41,71.86,69.62,45.88,58.5,41.22,50.85,38.6,59.1,44.6,43.58,39.98,69.18,68.44,66.07,55.09,40.41,43.16,32.55,42.04,48.45]"
   ]
  },
  {
   "cell_type": "code",
   "execution_count": 7,
   "metadata": {},
   "outputs": [
    {
     "data": {
      "image/png": "[encoded data removed]",
      "text/plain": [
       "<Figure size 432x288 with 1 Axes>"
      ]
     },
     "metadata": {
      "needs_background": "light"
     },
     "output_type": "display_data"
    },
    {
     "data": {
      "text/plain": [
       "<Figure size 432x288 with 0 Axes>"
      ]
     },
     "metadata": {},
     "output_type": "display_data"
    }
   ],
   "source": [
    "import matplotlib.pyplot as plt\n",
    "import numpy as np\n",
    "\n",
    "# Histogram of life_exp, 15 bins\n",
    "plt.hist(life_exp, bins=15)\n",
    "\n",
    "# Show and clear plot\n",
    "plt.show()\n",
    "plt.clf()"
   ]
  },
  {
   "cell_type": "code",
   "execution_count": 8,
   "metadata": {},
   "outputs": [
    {
     "data": {
      "image/png": "[encoded data removed]",
      "text/plain": [
       "<Figure size 432x288 with 1 Axes>"
      ]
     },
     "metadata": {
      "needs_background": "light"
     },
     "output_type": "display_data"
    },
    {
     "data": {
      "text/plain": [
       "<Figure size 432x288 with 0 Axes>"
      ]
     },
     "metadata": {},
     "output_type": "display_data"
    }
   ],
   "source": [
    "# Histogram of life_exp1950, 15 bins\n",
    "plt.hist(life_exp1950, bins=15)\n",
    "\n",
    "\n",
    "# Show and clear plot again\n",
    "plt.show()\n",
    "plt.clf()"
   ]
  }
 ],
 "metadata": {
  "kernelspec": {
   "display_name": "Python 3",
   "language": "python",
   "name": "python3"
  },
  "language_info": {
   "codemirror_mode": {
    "name": "ipython",
    "version": 3
   },
   "file_extension": ".py",
   "mimetype": "text/x-python",
   "name": "python",
   "nbconvert_exporter": "python",
   "pygments_lexer": "ipython3",
   "version": "3.7.1"
  }
 },
 "nbformat": 4,
 "nbformat_minor": 2
}
