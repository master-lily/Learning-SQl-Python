{
 "cells": [
  {
   "cell_type": "markdown",
   "metadata": {},
   "source": [
    "'''\n",
    "### and, or, not (1)  \n",
    "100xp  \n",
    "A boolean is either 1 or 0, True or False. With boolean operators such as and, or and not,\n",
    "you can combine these booleans to perform more advanced queries on your data.\n",
    "\n",
    "In the sample code on the right, two variables are defined: my_kitchen and your_kitchen,\n",
    "representing areas.\n",
    "\n",
    "\n",
    "### Instructions\n",
    "- Write Python expressions, wrapped in a print() function, to check whether:\n",
    "    - my_kitchen is bigger than 10 and smaller than 18.\n",
    "    - my_kitchen is smaller than 14 or bigger than 17.\n",
    "    - double the area of my_kitchen is smaller than triple the area of your_kitchen.  \n",
    "'''"
   ]
  },
  {
   "cell_type": "code",
   "execution_count": 1,
   "metadata": {},
   "outputs": [
    {
     "name": "stdout",
     "output_type": "stream",
     "text": [
      "False\n",
      "True\n",
      "True\n"
     ]
    }
   ],
   "source": [
    "# Define variables\n",
    "my_kitchen = 18.0\n",
    "your_kitchen = 14.0\n",
    "\n",
    "# my_kitchen bigger than 10 and smaller than 18?\n",
    "print(my_kitchen > 10 and my_kitchen<18)\n",
    "\n",
    "# my_kitchen smaller than 14 or bigger than 17?\n",
    "print(my_kitchen<14 or my_kitchen>17)\n",
    "\n",
    "# Double my_kitchen smaller than triple your_kitchen?\n",
    "print((my_kitchen *2)<(your_kitchen*3))"
   ]
  }
 ],
 "metadata": {
  "kernelspec": {
   "display_name": "Python 3",
   "language": "python",
   "name": "python3"
  },
  "language_info": {
   "codemirror_mode": {
    "name": "ipython",
    "version": 3
   },
   "file_extension": ".py",
   "mimetype": "text/x-python",
   "name": "python",
   "nbconvert_exporter": "python",
   "pygments_lexer": "ipython3",
   "version": "3.7.1"
  }
 },
 "nbformat": 4,
 "nbformat_minor": 2
}
