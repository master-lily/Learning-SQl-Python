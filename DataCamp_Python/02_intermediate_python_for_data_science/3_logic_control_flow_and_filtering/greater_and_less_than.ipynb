{
 "cells": [
  {
   "cell_type": "markdown",
   "metadata": {},
   "source": [
    "'''\n",
    "### Greater and less than  \n",
    "100xp  \n",
    "In the video, Filip also talked about the less than and greater than signs, < and > in Python.  \n",
    "You can combine them with an equals sign: <= and >=. Pay attention: <= is valid syntax,  \n",
    "but =< is not.\n",
    "\n",
    "All Python expressions in the following code chunk evaluate to True:\n",
    "\n",
    "3 < 4  \n",
    "3 <= 4  \n",
    "\"alpha\" <= \"beta\"\n",
    "\n",
    "Remember that for string comparison, Python determines the relationship based on alphabetical order.\n",
    "\n",
    "### Instructions\n",
    "- Write Python expressions, wrapped in a print() function, to check whether:\n",
    "    - x is greater than or equal to -10. x has already been defined for you.\n",
    "    - \"test\" is less than or equal to y. y has already been defined for you.\n",
    "    - True is greater than False.  \n",
    "'''"
   ]
  },
  {
   "cell_type": "code",
   "execution_count": 1,
   "metadata": {},
   "outputs": [
    {
     "name": "stdout",
     "output_type": "stream",
     "text": [
      "False\n"
     ]
    }
   ],
   "source": [
    "# Comparison of integers\n",
    "x = -3 * 6\n",
    "print(x>= -10)"
   ]
  },
  {
   "cell_type": "code",
   "execution_count": 2,
   "metadata": {},
   "outputs": [
    {
     "name": "stdout",
     "output_type": "stream",
     "text": [
      "True\n"
     ]
    }
   ],
   "source": [
    "# Comparison of strings\n",
    "y = \"test\"\n",
    "print(\"test\" <= y)"
   ]
  },
  {
   "cell_type": "code",
   "execution_count": 3,
   "metadata": {},
   "outputs": [
    {
     "name": "stdout",
     "output_type": "stream",
     "text": [
      "True\n"
     ]
    }
   ],
   "source": [
    "# Comparison of booleans\n",
    "print(True > False)"
   ]
  }
 ],
 "metadata": {
  "kernelspec": {
   "display_name": "Python 3",
   "language": "python",
   "name": "python3"
  },
  "language_info": {
   "codemirror_mode": {
    "name": "ipython",
    "version": 3
   },
   "file_extension": ".py",
   "mimetype": "text/x-python",
   "name": "python",
   "nbconvert_exporter": "python",
   "pygments_lexer": "ipython3",
   "version": "3.7.1"
  }
 },
 "nbformat": 4,
 "nbformat_minor": 2
}
