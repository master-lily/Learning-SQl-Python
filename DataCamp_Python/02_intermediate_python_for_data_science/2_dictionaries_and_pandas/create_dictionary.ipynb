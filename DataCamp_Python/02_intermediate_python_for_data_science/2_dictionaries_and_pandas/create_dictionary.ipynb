{
 "cells": [
  {
   "cell_type": "markdown",
   "metadata": {},
   "source": [
    "'''\n",
    "### Create dictionary  \n",
    "100xp  \n",
    "The countries and capitals lists are again available in the script.  \n",
    "It's your job to convert this data to a dictionary where the country names are\n",
    "the keys and the capitals are the corresponding values. As a refresher, here is a\n",
    "recipe for creating a dictionary:\n",
    "\n",
    "``my_dict = {\n",
    "   \"key1\":\"value1\",\n",
    "   \"key2\":\"value2\",\n",
    "}``\n",
    "\n",
    "In this recipe, both the keys and the values are strings.  \n",
    "This will also be the case for this exercise.\n",
    "\n",
    "\n",
    "### Instructions\n",
    "- With the strings in countries and capitals, create a dictionary called europe with\n",
    "4 key:value pairs. Beware of capitalization! Make sure you use lowercase characters everywhere.\n",
    "- Print out europe to see if the result is what you expected.  \n",
    "'''\n",
    "\n"
   ]
  },
  {
   "cell_type": "code",
   "execution_count": 1,
   "metadata": {},
   "outputs": [
    {
     "name": "stdout",
     "output_type": "stream",
     "text": [
      "{'spain': 'madrid', 'france': 'paris', 'germany': 'berlin', 'norway': 'oslo'}\n"
     ]
    }
   ],
   "source": [
    "# Definition of countries and capital\n",
    "countries = ['spain', 'france', 'germany', 'norway']\n",
    "capitals = ['madrid', 'paris', 'berlin', 'oslo']\n",
    "\n",
    "# From string in countries and capitals, create dictionary europe\n",
    "europe = {\n",
    "    \"spain\": \"madrid\",\n",
    "    \"france\": \"paris\",\n",
    "    \"germany\": \"berlin\",\n",
    "    \"norway\": \"oslo\"\n",
    "}\n",
    "\n",
    "# Print europe\n",
    "print(europe)"
   ]
  }
 ],
 "metadata": {
  "kernelspec": {
   "display_name": "Python 3",
   "language": "python",
   "name": "python3"
  },
  "language_info": {
   "codemirror_mode": {
    "name": "ipython",
    "version": 3
   },
   "file_extension": ".py",
   "mimetype": "text/x-python",
   "name": "python",
   "nbconvert_exporter": "python",
   "pygments_lexer": "ipython3",
   "version": "3.7.1"
  }
 },
 "nbformat": 4,
 "nbformat_minor": 2
}
