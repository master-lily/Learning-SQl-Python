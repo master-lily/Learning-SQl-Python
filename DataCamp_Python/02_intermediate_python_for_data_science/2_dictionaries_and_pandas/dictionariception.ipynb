{
 "cells": [
  {
   "cell_type": "markdown",
   "metadata": {},
   "source": [
    "'''\n",
    "### Dictionariception  \n",
    "100xp  \n",
    "Remember lists? They could contain anything, even other lists. Well, for dictionaries the\n",
    "same holds. Dictionaries can contain key:value pairs where the values are again dictionaries.\n",
    "\n",
    "As an example, have a look at the script where another version of europe - the dictionary you've\n",
    "been working with all along - is coded. The keys are still the country names, but the values\n",
    "are dictionaries that contain more information than just the capital.\n",
    "\n",
    "It's perfectly possible to chain square brackets to select elements. To fetch the population\n",
    "for Spain from europe, for example, you need:\n",
    "\n",
    "europe['spain']['population']\n",
    "\n",
    "\n",
    "### Instructions\n",
    "- Use chained square brackets to select and print out the capital of France.\n",
    "- Create a dictionary, named data, with the keys 'capital' and 'population'. Set them to 'rome'\n",
    "and 59.83, respectively.\n",
    "- Add a new key-value pair to europe; the key is 'italy' and the value is data, the dictionary\n",
    "you just built.  \n",
    "'''"
   ]
  },
  {
   "cell_type": "code",
   "execution_count": 2,
   "metadata": {},
   "outputs": [
    {
     "name": "stdout",
     "output_type": "stream",
     "text": [
      "paris\n",
      "{'spain': {'capital': 'madrid', 'population': 46.77}, 'france': {'capital': 'paris', 'population': 66.03}, 'germany': {'capital': 'berlin', 'population': 80.62}, 'norway': {'capital': 'oslo', 'population': 5.084}, 'italy': {'capital': 'rome', 'population': 59.83}}\n"
     ]
    }
   ],
   "source": [
    "# Dictionary of dictionaries\n",
    "europe = { 'spain': { 'capital':'madrid', 'population':46.77 },\n",
    "           'france': { 'capital':'paris', 'population':66.03 },\n",
    "           'germany': { 'capital':'berlin', 'population':80.62 },\n",
    "           'norway': { 'capital':'oslo', 'population':5.084 } }\n",
    "\n",
    "\n",
    "# Print out the capital of France\n",
    "print(europe['france']['capital'])\n",
    "\n",
    "# Create sub-dictionary data\n",
    "data = {\"capital\": \"rome\", \"population\":59.83}\n",
    "\n",
    "# Add data to europe under key 'italy'\n",
    "europe ['italy'] = data\n",
    "\n",
    "# Print europe\n",
    "print(europe)"
   ]
  }
 ],
 "metadata": {
  "kernelspec": {
   "display_name": "Python 3",
   "language": "python",
   "name": "python3"
  },
  "language_info": {
   "codemirror_mode": {
    "name": "ipython",
    "version": 3
   },
   "file_extension": ".py",
   "mimetype": "text/x-python",
   "name": "python",
   "nbconvert_exporter": "python",
   "pygments_lexer": "ipython3",
   "version": "3.7.1"
  }
 },
 "nbformat": 4,
 "nbformat_minor": 2
}
