{
 "cells": [
  {
   "cell_type": "markdown",
   "metadata": {},
   "source": [
    "'''\n",
    "### CSV to DataFrame (2)  \n",
    "100xp  \n",
    "Your read_csv() call to import the CSV data didn't generate an error, but the\n",
    "output is not entirely what we wanted. The row labels were imported as another\n",
    "column without a name.\n",
    "\n",
    "Remember index_col, an argument of read_csv(), that you can use to specify which\n",
    "column in the CSV file should be used as a row label? Well, that's exactly what\n",
    "you need here!\n",
    "\n",
    "Python code that solves the previous exercise is already included; can you make\n",
    "the appropriate changes to fix the data import?\n",
    "\n",
    "\n",
    "### Instructions\n",
    "- Run the code with Submit Answer and assert that the first column should actually\n",
    "be used as row labels.\n",
    "- Specify the index_col argument inside pd.read_csv(): set it to 0, so that the\n",
    "first column is used as row labels.\n",
    "- Has the printout of cars improved now?  \n",
    "'''\n"
   ]
  },
  {
   "cell_type": "code",
   "execution_count": 1,
   "metadata": {},
   "outputs": [
    {
     "name": "stdout",
     "output_type": "stream",
     "text": [
      "  Unnamed: 0  cars_per_cap        country  drives_right\n",
      "0         US           809  United States          True\n",
      "1        AUS           731      Australia         False\n",
      "2        JAP           588          Japan         False\n",
      "3         IN            18          India         False\n",
      "4         RU           200         Russia          True\n",
      "5        MOR            70        Morocco          True\n",
      "6         EG            45          Egypt          True\n"
     ]
    }
   ],
   "source": [
    "# Import pandas as pd\n",
    "import pandas as pd\n",
    "\n",
    "# Fix import by including index_col\n",
    "cars = pd.read_csv(\"../intermediate_python_datasets/cars.csv\")\n",
    "\n",
    "# Print out cars\n",
    "print(cars)"
   ]
  }
 ],
 "metadata": {
  "kernelspec": {
   "display_name": "Python 3",
   "language": "python",
   "name": "python3"
  },
  "language_info": {
   "codemirror_mode": {
    "name": "ipython",
    "version": 3
   },
   "file_extension": ".py",
   "mimetype": "text/x-python",
   "name": "python",
   "nbconvert_exporter": "python",
   "pygments_lexer": "ipython3",
   "version": "3.7.1"
  }
 },
 "nbformat": 4,
 "nbformat_minor": 2
}
