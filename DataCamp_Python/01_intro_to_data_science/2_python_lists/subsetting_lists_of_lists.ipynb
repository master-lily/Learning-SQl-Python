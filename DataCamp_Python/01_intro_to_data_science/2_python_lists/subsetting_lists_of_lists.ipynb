{
 "cells": [
  {
   "cell_type": "markdown",
   "metadata": {},
   "source": [
    "'''\n",
    "### Subsetting lists of lists  \n",
    "50xp  \n",
    "You saw before that a Python list can contain practically anything; even other lists! To subset\n",
    "lists of lists, you can use the same technique as before: square brackets. Try out the commands\n",
    "in the following code sample in the IPython Shell:\n",
    "\n",
    "x = [[\"a\", \"b\", \"c\"],  \n",
    "     [\"d\", \"e\", \"f\"],  \n",
    "     [\"g\", \"h\", \"i\"]]  \n",
    "x[2][0]  \n",
    "x[2][:2]  \n",
    "x[2] results in a list, that you can subset again by adding additional square brackets.\n",
    "\n",
    "What will house[-1][1] return? house, the list of lists that you created before, is already\n",
    "defined for you in the workspace. You can experiment with it in the IPython Shell.\n",
    "\n",
    "Possible Answers  \n",
    "A float: the kitchen area  \n",
    "A string: \"kitchen\"  \n",
    "A float: the bathroom area  \n",
    "A string: \"bathroom\"  \n",
    "'''"
   ]
  },
  {
   "cell_type": "code",
   "execution_count": 1,
   "metadata": {},
   "outputs": [],
   "source": [
    "house = [['hallway', 11.25],\n",
    "         ['kitchen', 18.0],\n",
    "         ['living room', 20.0],\n",
    "         ['bedroom', 10.75],\n",
    "         ['bathroom', 9.5]]"
   ]
  },
  {
   "cell_type": "code",
   "execution_count": 6,
   "metadata": {},
   "outputs": [
    {
     "data": {
      "text/plain": [
       "9.5"
      ]
     },
     "execution_count": 6,
     "metadata": {},
     "output_type": "execute_result"
    }
   ],
   "source": [
    "house[-1][1] # A float: the bathroom area"
   ]
  },
  {
   "cell_type": "code",
   "execution_count": 7,
   "metadata": {},
   "outputs": [
    {
     "name": "stdout",
     "output_type": "stream",
     "text": [
      "<class 'float'>\n"
     ]
    }
   ],
   "source": [
    "print(type(house[-1][1]))"
   ]
  }
 ],
 "metadata": {
  "kernelspec": {
   "display_name": "Python 3",
   "language": "python",
   "name": "python3"
  },
  "language_info": {
   "codemirror_mode": {
    "name": "ipython",
    "version": 3
   },
   "file_extension": ".py",
   "mimetype": "text/x-python",
   "name": "python",
   "nbconvert_exporter": "python",
   "pygments_lexer": "ipython3",
   "version": "3.7.1"
  }
 },
 "nbformat": 4,
 "nbformat_minor": 2
}
