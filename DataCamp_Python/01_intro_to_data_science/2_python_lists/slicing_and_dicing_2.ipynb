{
 "cells": [
  {
   "cell_type": "markdown",
   "metadata": {},
   "source": [
    "'''\n",
    "### Slicing and dicing (2)  \n",
    "100xp  \n",
    "In the video, Filip first discussed the syntax where you specify both where to begin and end the\n",
    "slice of your list:\n",
    "\n",
    "my_list[begin:end]  \n",
    "However, it's also possible not to specify these indexes. If you don't specify the begin index,\n",
    "Python figures out that you want to start your slice at the beginning of your list. If you don't\n",
    "specify the end index, the slice will go all the way to the last element of your list. To experiment\n",
    "with this, try the following commands in the IPython Shell:\n",
    "\n",
    "x = [\"a\", \"b\", \"c\", \"d\"]  \n",
    "x[:2]  \n",
    "x[2:]  \n",
    "x[:]  \n",
    "\n",
    "\n",
    "### Instructions  \n",
    "Use slicing to create the lists downstairs and upstairs again, but this time without using indexes\n",
    "if it's not necessary. Remember downstairs is the first 6 elements of areas and upstairs is the last\n",
    "4 elements of areas.  \n",
    "'''\n",
    "\n"
   ]
  },
  {
   "cell_type": "code",
   "execution_count": 2,
   "metadata": {},
   "outputs": [
    {
     "name": "stdout",
     "output_type": "stream",
     "text": [
      "['hallway', 11.25, 'kitchen', 18.0, 'living room', 20.0]\n"
     ]
    }
   ],
   "source": [
    "# Create the areas list\n",
    "areas = [\"hallway\", 11.25, \"kitchen\", 18.0, \"living room\", 20.0, \"bedroom\", 10.75, \"bathroom\", 9.50]\n",
    "\n",
    "# Alternative slicing to create downstairs\n",
    "downstairs = areas[:6]\n",
    "print(downstairs)"
   ]
  },
  {
   "cell_type": "code",
   "execution_count": 3,
   "metadata": {},
   "outputs": [
    {
     "name": "stdout",
     "output_type": "stream",
     "text": [
      "['bedroom', 10.75, 'bathroom', 9.5]\n"
     ]
    }
   ],
   "source": [
    "# Alternative slicing to create upstairs\n",
    "upstairs = areas[6:]\n",
    "print(upstairs)"
   ]
  }
 ],
 "metadata": {
  "kernelspec": {
   "display_name": "Python 3",
   "language": "python",
   "name": "python3"
  },
  "language_info": {
   "codemirror_mode": {
    "name": "ipython",
    "version": 3
   },
   "file_extension": ".py",
   "mimetype": "text/x-python",
   "name": "python",
   "nbconvert_exporter": "python",
   "pygments_lexer": "ipython3",
   "version": "3.7.1"
  }
 },
 "nbformat": 4,
 "nbformat_minor": 2
}
