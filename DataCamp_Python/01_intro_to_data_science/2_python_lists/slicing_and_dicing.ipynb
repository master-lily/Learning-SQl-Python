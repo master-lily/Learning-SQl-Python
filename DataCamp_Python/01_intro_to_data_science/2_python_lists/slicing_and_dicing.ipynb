{
 "cells": [
  {
   "cell_type": "markdown",
   "metadata": {},
   "source": [
    "'''\n",
    "### Slicing and dicing  \n",
    "100xp  \n",
    "Selecting single values from a list is just one part of the story. It's also possible to slice your\n",
    "list, which means selecting multiple elements from your list. Use the following syntax:\n",
    "\n",
    "my_list[start:end]  \n",
    "The start index will be included, while the end index is not.\n",
    "\n",
    "The code sample below shows an example. A list with \"b\" and \"c\", corresponding to indexes 1 and 2,\n",
    "are selected from a list x:\n",
    "\n",
    "x = [\"a\", \"b\", \"c\", \"d\"]  \n",
    "x[1:3]  \n",
    "The elements with index 1 and 2 are included, while the element with index 3 is not.\n",
    "\n",
    "\n",
    "### Instructions  \n",
    "Use slicing to create a list, downstairs, that contains the first 6 elements of areas.  \n",
    "Do a similar thing to create a new variable, upstairs, that contains the last 4 elements of areas.  \n",
    "Print both downstairs and upstairs using print().  \n",
    "'''"
   ]
  },
  {
   "cell_type": "code",
   "execution_count": 4,
   "metadata": {},
   "outputs": [
    {
     "name": "stdout",
     "output_type": "stream",
     "text": [
      "['hallway', 11.25, 'kitchen', 18.0, 'living room', 20.0]\n",
      "['bedroom', 10.75, 'bathroom', 9.5]\n"
     ]
    }
   ],
   "source": [
    "# Create the areas list\n",
    "areas = [\"hallway\", 11.25, \"kitchen\", 18.0, \"living room\", 20.0, \"bedroom\", 10.75, \"bathroom\", 9.50]\n",
    "\n",
    "# Use slicing to create downstairs\n",
    "downstairs = areas[0:6]\n",
    "\n",
    "# Use slicing to create upstairs\n",
    "upstairs = areas[6:]\n",
    "\n",
    "# Print out downstairs and upstairs\n",
    "print(downstairs)\n",
    "print(upstairs)"
   ]
  }
 ],
 "metadata": {
  "kernelspec": {
   "display_name": "Python 3",
   "language": "python",
   "name": "python3"
  },
  "language_info": {
   "codemirror_mode": {
    "name": "ipython",
    "version": 3
   },
   "file_extension": ".py",
   "mimetype": "text/x-python",
   "name": "python",
   "nbconvert_exporter": "python",
   "pygments_lexer": "ipython3",
   "version": "3.7.1"
  }
 },
 "nbformat": 4,
 "nbformat_minor": 2
}
