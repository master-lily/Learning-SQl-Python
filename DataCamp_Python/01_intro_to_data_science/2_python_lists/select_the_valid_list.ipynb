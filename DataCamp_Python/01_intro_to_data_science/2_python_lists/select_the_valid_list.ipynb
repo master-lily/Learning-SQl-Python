{
 "cells": [
  {
   "cell_type": "markdown",
   "metadata": {},
   "source": [
    "    \n",
    "'''\n",
    "### Select the valid list  \n",
    "50xp  \n",
    "A list can contain any Python type. But a list itself is also a Python type. That means that a list can also contain a list! Python is getting funkier by the minute, but fear not, just remember the list syntax:\n",
    "\n",
    "my_list = [el1, el2, el3]  \n",
    "Can you tell which ones of the following lines of Python code are valid ways to build a list?\n",
    "\n",
    "A. [1, 3, 4, 2] B. [[1, 2, 3], [4, 5, 7]] C. [1 + 2, \"a\" * 5, 3]  \n",
    "'''\n",
    "\n",
    "#A, B and C <----- CORRECT\n",
    "#B\n",
    "#B and C\n",
    "#C"
   ]
  },
  {
   "cell_type": "code",
   "execution_count": 2,
   "metadata": {},
   "outputs": [
    {
     "name": "stdout",
     "output_type": "stream",
     "text": [
      "[1, 3, 4, 2]\n",
      "<class 'list'>\n"
     ]
    }
   ],
   "source": [
    "list1 = [1, 3, 4, 2] \n",
    "print(list1)\n",
    "print(type(list1))"
   ]
  },
  {
   "cell_type": "code",
   "execution_count": 3,
   "metadata": {},
   "outputs": [
    {
     "name": "stdout",
     "output_type": "stream",
     "text": [
      "[[1, 2, 3], [4, 5, 7]]\n",
      "<class 'list'>\n"
     ]
    }
   ],
   "source": [
    "list2 = [[1, 2, 3], [4, 5, 7]] \n",
    "print(list2)\n",
    "print(type(list2))"
   ]
  },
  {
   "cell_type": "code",
   "execution_count": 4,
   "metadata": {},
   "outputs": [
    {
     "name": "stdout",
     "output_type": "stream",
     "text": [
      "[3, 'aaaaa', 3]\n",
      "<class 'list'>\n"
     ]
    }
   ],
   "source": [
    "list3 = [1 + 2, \"a\" * 5, 3]\n",
    "print(list3)\n",
    "print(type(list3))"
   ]
  }
 ],
 "metadata": {
  "kernelspec": {
   "display_name": "Python 3",
   "language": "python",
   "name": "python3"
  },
  "language_info": {
   "codemirror_mode": {
    "name": "ipython",
    "version": 3
   },
   "file_extension": ".py",
   "mimetype": "text/x-python",
   "name": "python",
   "nbconvert_exporter": "python",
   "pygments_lexer": "ipython3",
   "version": "3.7.1"
  }
 },
 "nbformat": 4,
 "nbformat_minor": 2
}
