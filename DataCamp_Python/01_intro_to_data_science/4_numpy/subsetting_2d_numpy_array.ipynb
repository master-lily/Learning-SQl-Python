{
 "cells": [
  {
   "cell_type": "markdown",
   "metadata": {},
   "source": [
    "'''\n",
    "### Subsetting 2D NumPy Arrays  \n",
    "100xp  \n",
    "If your 2D numpy array has a regular structure, i.e. each row and column has a\n",
    "fixed number of values, complicated ways of subsetting become very easy.  \n",
    "Have a look at the code below where the elements \"a\" and \"c\" are extracted\n",
    "from a list of lists.\n",
    "\n",
    "#regular list of lists  \n",
    "x = [[\"a\", \"b\"], [\"c\", \"d\"]]  \n",
    "[x[0][0], x[1][0]]  \n",
    "\n",
    "#numpy  \n",
    "import numpy as np  \n",
    "np_x = np.array(x)  \n",
    "np_x[:,0]  \n",
    "\n",
    "For regular Python lists, this is a real pain. For 2D numpy arrays, however,\n",
    "it's pretty intuitive! The indexes before the comma refer to the rows, while\n",
    "those after the comma refer to the columns. The : is for slicing; in this example,\n",
    "it tells Python to include all rows.\n",
    "\n",
    "The code that converts the pre-loaded baseball list to a 2D numpy array is already\n",
    "in the script. The first column contains the players' height in inches and the second\n",
    "column holds player weight, in pounds. Add some lines to make the correct selections.  \n",
    "Remember that in Python, the first element is at index 0!\n",
    "\n",
    "\n",
    "### Instructions\n",
    "- Print out the 50th row of np_baseball.\n",
    "- Make a new variable, np_weight, containing the entire second column of np_baseball.\n",
    "- Select the height (first column) of the 124th baseball player in np_baseball and print it out.  \n",
    "'''"
   ]
  },
  {
   "cell_type": "code",
   "execution_count": 2,
   "metadata": {},
   "outputs": [
    {
     "name": "stdout",
     "output_type": "stream",
     "text": [
      "                    Name Team          Position  Height  Weight    Age  \\\n",
      "0          Adam_Donachie  BAL           Catcher      74     180  22.99   \n",
      "1              Paul_Bako  BAL           Catcher      74     215  34.69   \n",
      "2        Ramon_Hernandez  BAL           Catcher      72     210  30.78   \n",
      "3           Kevin_Millar  BAL     First_Baseman      72     210  35.43   \n",
      "4            Chris_Gomez  BAL     First_Baseman      73     188  35.71   \n",
      "5          Brian_Roberts  BAL    Second_Baseman      69     176  29.39   \n",
      "6          Miguel_Tejada  BAL         Shortstop      69     209  30.77   \n",
      "7            Melvin_Mora  BAL     Third_Baseman      71     200  35.07   \n",
      "8            Aubrey_Huff  BAL     Third_Baseman      76     231  30.19   \n",
      "9             Adam_Stern  BAL        Outfielder      71     180  27.05   \n",
      "10       Jeff_Fiorentino  BAL        Outfielder      73     188  23.88   \n",
      "11         Freddie_Bynum  BAL        Outfielder      73     180  26.96   \n",
      "12         Nick_Markakis  BAL        Outfielder      74     185  23.29   \n",
      "13         Brandon_Fahey  BAL        Outfielder      74     160  26.11   \n",
      "14       Corey_Patterson  BAL        Outfielder      69     180  27.55   \n",
      "15            Jay_Payton  BAL        Outfielder      70     185  34.27   \n",
      "16           Erik_Bedard  BAL  Starting_Pitcher      73     189  27.99   \n",
      "17           Hayden_Penn  BAL  Starting_Pitcher      75     185  22.38   \n",
      "18           Adam_Loewen  BAL  Starting_Pitcher      78     219  22.89   \n",
      "19        Daniel_Cabrera  BAL  Starting_Pitcher      79     230  25.76   \n",
      "20        Steve_Trachsel  BAL  Starting_Pitcher      76     205  36.33   \n",
      "21          Jaret_Wright  BAL  Starting_Pitcher      74     230  31.17   \n",
      "22           Kris_Benson  BAL  Starting_Pitcher      76     195  32.31   \n",
      "23      Scott_Williamson  BAL    Relief_Pitcher      72     180  31.03   \n",
      "24          John_Parrish  BAL    Relief_Pitcher      71     192  29.26   \n",
      "25            Danys_Baez  BAL    Relief_Pitcher      75     225  29.47   \n",
      "26         Chad_Bradford  BAL    Relief_Pitcher      77     203  32.46   \n",
      "27          Jamie_Walker  BAL    Relief_Pitcher      74     195  35.67   \n",
      "28          Brian_Burres  BAL    Relief_Pitcher      73     182  25.89   \n",
      "29          Kurt_Birkins  BAL    Relief_Pitcher      74     188  26.55   \n",
      "...                  ...  ...               ...     ...     ...    ...   \n",
      "985          John_Nelson  STL     First_Baseman      73     190  27.99   \n",
      "986        Albert_Pujols  STL     First_Baseman      75     225  27.12   \n",
      "987         Adam_Kennedy  STL    Second_Baseman      73     185  31.14   \n",
      "988          Aaron_Miles  STL    Second_Baseman      67     180  30.21   \n",
      "989       David_Eckstein  STL         Shortstop      67     165  32.11   \n",
      "990          Scott_Rolen  STL     Third_Baseman      76     240  31.91   \n",
      "991        Scott_Spiezio  STL     Third_Baseman      74     220  34.44   \n",
      "992          Jim_Edmonds  STL        Outfielder      73     212  36.68   \n",
      "993           So_Taguchi  STL        Outfielder      70     163  37.66   \n",
      "994     Juan_Encarnacion  STL        Outfielder      75     215  30.98   \n",
      "995       Skip_Schumaker  STL        Outfielder      70     175  27.07   \n",
      "996       John_Rodriguez  STL        Outfielder      72     205  29.11   \n",
      "997         Chris_Duncan  STL        Outfielder      77     210  25.82   \n",
      "998      Adam_Wainwright  STL  Starting_Pitcher      79     205  25.50   \n",
      "999          Mark_Mulder  STL  Starting_Pitcher      78     208  29.57   \n",
      "1000       Anthony_Reyes  STL  Starting_Pitcher      74     215  25.37   \n",
      "1001       Ryan_Franklin  STL  Starting_Pitcher      75     180  33.99   \n",
      "1002           Kip_Wells  STL  Starting_Pitcher      75     200  29.86   \n",
      "1003     Chris_Carpenter  STL  Starting_Pitcher      78     230  31.84   \n",
      "1004       Russ_Springer  STL    Relief_Pitcher      76     211  38.31   \n",
      "1005  Jason_Isringhausen  STL    Relief_Pitcher      75     230  34.48   \n",
      "1006      Ricardo_Rincon  STL    Relief_Pitcher      69     190  36.88   \n",
      "1007       Braden_Looper  STL    Relief_Pitcher      75     220  32.34   \n",
      "1008        Randy_Flores  STL    Relief_Pitcher      72     180  31.58   \n",
      "1009        Josh_Hancock  STL    Relief_Pitcher      75     205  28.89   \n",
      "1010       Brad_Thompson  STL    Relief_Pitcher      73     190  25.08   \n",
      "1011       Tyler_Johnson  STL    Relief_Pitcher      74     180  25.73   \n",
      "1012      Chris_Narveson  STL    Relief_Pitcher      75     205  25.19   \n",
      "1013       Randy_Keisler  STL    Relief_Pitcher      75     190  31.01   \n",
      "1014         Josh_Kinney  STL    Relief_Pitcher      73     195  27.92   \n",
      "\n",
      "     PosCategory  \n",
      "0        Catcher  \n",
      "1        Catcher  \n",
      "2        Catcher  \n",
      "3      Infielder  \n",
      "4      Infielder  \n",
      "5      Infielder  \n",
      "6      Infielder  \n",
      "7      Infielder  \n",
      "8      Infielder  \n",
      "9     Outfielder  \n",
      "10    Outfielder  \n",
      "11    Outfielder  \n",
      "12    Outfielder  \n",
      "13    Outfielder  \n",
      "14    Outfielder  \n",
      "15    Outfielder  \n",
      "16       Pitcher  \n",
      "17       Pitcher  \n",
      "18       Pitcher  \n",
      "19       Pitcher  \n",
      "20       Pitcher  \n",
      "21       Pitcher  \n",
      "22       Pitcher  \n",
      "23       Pitcher  \n",
      "24       Pitcher  \n",
      "25       Pitcher  \n",
      "26       Pitcher  \n",
      "27       Pitcher  \n",
      "28       Pitcher  \n",
      "29       Pitcher  \n",
      "...          ...  \n",
      "985    Infielder  \n",
      "986    Infielder  \n",
      "987    Infielder  \n",
      "988    Infielder  \n",
      "989    Infielder  \n",
      "990    Infielder  \n",
      "991    Infielder  \n",
      "992   Outfielder  \n",
      "993   Outfielder  \n",
      "994   Outfielder  \n",
      "995   Outfielder  \n",
      "996   Outfielder  \n",
      "997   Outfielder  \n",
      "998      Pitcher  \n",
      "999      Pitcher  \n",
      "1000     Pitcher  \n",
      "1001     Pitcher  \n",
      "1002     Pitcher  \n",
      "1003     Pitcher  \n",
      "1004     Pitcher  \n",
      "1005     Pitcher  \n",
      "1006     Pitcher  \n",
      "1007     Pitcher  \n",
      "1008     Pitcher  \n",
      "1009     Pitcher  \n",
      "1010     Pitcher  \n",
      "1011     Pitcher  \n",
      "1012     Pitcher  \n",
      "1013     Pitcher  \n",
      "1014     Pitcher  \n",
      "\n",
      "[1015 rows x 7 columns]\n"
     ]
    }
   ],
   "source": [
    "import pandas as pd\n",
    "baseball = pd.read_csv(\"../intro_python_datasets/baseball.csv\")\n",
    "print(baseball)"
   ]
  },
  {
   "cell_type": "code",
   "execution_count": 34,
   "metadata": {},
   "outputs": [
    {
     "name": "stdout",
     "output_type": "stream",
     "text": [
      "[ 70 195]\n"
     ]
    }
   ],
   "source": [
    "# Import numpy package\n",
    "import numpy as np\n",
    "\n",
    "# Create np_baseball (2 cols)\n",
    "np_baseball = np.array(baseball.iloc[:, 3:5])\n",
    "np_baseball = np.array(np_baseball)\n",
    "\n",
    "# Print out the 50th row of np_baseball\n",
    "print(np_baseball[49, :])"
   ]
  },
  {
   "cell_type": "code",
   "execution_count": 40,
   "metadata": {},
   "outputs": [
    {
     "name": "stdout",
     "output_type": "stream",
     "text": [
      "[180 215 210 ... 205 190 195]\n"
     ]
    }
   ],
   "source": [
    "# Select the entire second column of np_baseball: np_weight\n",
    "np_weight = np_baseball[:, 1]\n",
    "print(np_weight)"
   ]
  },
  {
   "cell_type": "code",
   "execution_count": 28,
   "metadata": {},
   "outputs": [
    {
     "name": "stdout",
     "output_type": "stream",
     "text": [
      "[ 75 200]\n"
     ]
    }
   ],
   "source": [
    "# Print out height of 124th player\n",
    "print(np_baseball[123, :])"
   ]
  }
 ],
 "metadata": {
  "kernelspec": {
   "display_name": "Python 3",
   "language": "python",
   "name": "python3"
  },
  "language_info": {
   "codemirror_mode": {
    "name": "ipython",
    "version": 3
   },
   "file_extension": ".py",
   "mimetype": "text/x-python",
   "name": "python",
   "nbconvert_exporter": "python",
   "pygments_lexer": "ipython3",
   "version": "3.7.1"
  }
 },
 "nbformat": 4,
 "nbformat_minor": 2
}
