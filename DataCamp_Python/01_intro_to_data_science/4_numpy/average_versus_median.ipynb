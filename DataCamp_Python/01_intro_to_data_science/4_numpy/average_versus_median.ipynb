{
 "cells": [
  {
   "cell_type": "markdown",
   "metadata": {},
   "source": [
    "'''\n",
    "### Average versus median  \n",
    "100xp  \n",
    "You now know how to use numpy functions to get a better feeling for your data.\n",
    "It basically comes down to importing numpy and then calling several simple functions\n",
    "on the numpy arrays:\n",
    "\n",
    "import numpy as np  \n",
    "x = [1, 4, 8, 10, 12]  \n",
    "np.mean(x)  \n",
    "np.median(x)  \n",
    "The baseball data is available as a 2D numpy array with 3 columns (height, weight, age)\n",
    "and 1015 rows. The name of this numpy array is np_baseball. After restructuring the data,\n",
    "however, you notice that some height values are abnormally high. Follow the instructions\n",
    "and discover which summary statistic is best suited if you're dealing with so-called outliers.\n",
    "\n",
    "\n",
    "### Instructions\n",
    "- Create numpy array np_height that is equal to first column of np_baseball.\n",
    "- Print out the mean of np_height.\n",
    "- Print out the median of np_height.    \n",
    "'''\n"
   ]
  },
  {
   "cell_type": "code",
   "execution_count": 1,
   "metadata": {},
   "outputs": [
    {
     "name": "stdout",
     "output_type": "stream",
     "text": [
      "92.33\n"
     ]
    }
   ],
   "source": [
    "\n",
    "# np_baseball is available\n",
    "import pandas as pd\n",
    "baseball = pd.read_csv(\"../intro_python_datasets/baseball.csv\")\n",
    "\n",
    "# Import numpy\n",
    "import numpy as np\n",
    "\n",
    "# made np_baseball from baseball\n",
    "np_baseball = np.array(baseball.iloc[:, 3:6])\n",
    "\n",
    "\n",
    "# Create np_height from np_baseball\n",
    "np_height = np_baseball[0]\n",
    "\n",
    "# Print out the mean of np_height\n",
    "print(np.mean(np_height))"
   ]
  },
  {
   "cell_type": "code",
   "execution_count": 2,
   "metadata": {},
   "outputs": [
    {
     "name": "stdout",
     "output_type": "stream",
     "text": [
      "74.0\n"
     ]
    }
   ],
   "source": [
    "# Print out the median of np_height\n",
    "print(np.median(np_height))"
   ]
  }
 ],
 "metadata": {
  "kernelspec": {
   "display_name": "Python 3",
   "language": "python",
   "name": "python3"
  },
  "language_info": {
   "codemirror_mode": {
    "name": "ipython",
    "version": 3
   },
   "file_extension": ".py",
   "mimetype": "text/x-python",
   "name": "python",
   "nbconvert_exporter": "python",
   "pygments_lexer": "ipython3",
   "version": "3.7.1"
  }
 },
 "nbformat": 4,
 "nbformat_minor": 2
}
