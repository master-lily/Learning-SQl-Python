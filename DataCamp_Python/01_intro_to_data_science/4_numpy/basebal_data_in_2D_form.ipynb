{
 "cells": [
  {
   "cell_type": "markdown",
   "metadata": {},
   "source": [
    "'''\n",
    "### Baseball data in 2D form  \n",
    "100xp  \n",
    "You have another look at the MLB data and realize that it makes more sense to\n",
    "restructure all this information in a 2D numpy array. This array should have\n",
    "1015 rows, corresponding to the 1015 baseball players you have information on, \n",
    "nd 2 columns (for height and weight).\n",
    "\n",
    "The MLB was, again, very helpful and passed you the data in a different structure,\n",
    "a Python list of lists. In this list of lists, each sublist represents the height\n",
    "and weight of a single baseball player. The name of this embedded list is baseball.\n",
    "\n",
    "Can you store the data as a 2D array to unlock numpy's extra functionality?\n",
    "\n",
    "\n",
    "### Instructions\n",
    "Use np.array() to create a 2D numpy array from baseball. Name it np_baseball.  \n",
    "Print out the shape attribute of np_baseball.  \n",
    "'''"
   ]
  },
  {
   "cell_type": "code",
   "execution_count": 2,
   "metadata": {},
   "outputs": [
    {
     "name": "stdout",
     "output_type": "stream",
     "text": [
      "                    Name Team          Position  Height  Weight    Age  \\\n",
      "0          Adam_Donachie  BAL           Catcher      74     180  22.99   \n",
      "1              Paul_Bako  BAL           Catcher      74     215  34.69   \n",
      "2        Ramon_Hernandez  BAL           Catcher      72     210  30.78   \n",
      "3           Kevin_Millar  BAL     First_Baseman      72     210  35.43   \n",
      "4            Chris_Gomez  BAL     First_Baseman      73     188  35.71   \n",
      "5          Brian_Roberts  BAL    Second_Baseman      69     176  29.39   \n",
      "6          Miguel_Tejada  BAL         Shortstop      69     209  30.77   \n",
      "7            Melvin_Mora  BAL     Third_Baseman      71     200  35.07   \n",
      "8            Aubrey_Huff  BAL     Third_Baseman      76     231  30.19   \n",
      "9             Adam_Stern  BAL        Outfielder      71     180  27.05   \n",
      "10       Jeff_Fiorentino  BAL        Outfielder      73     188  23.88   \n",
      "11         Freddie_Bynum  BAL        Outfielder      73     180  26.96   \n",
      "12         Nick_Markakis  BAL        Outfielder      74     185  23.29   \n",
      "13         Brandon_Fahey  BAL        Outfielder      74     160  26.11   \n",
      "14       Corey_Patterson  BAL        Outfielder      69     180  27.55   \n",
      "15            Jay_Payton  BAL        Outfielder      70     185  34.27   \n",
      "16           Erik_Bedard  BAL  Starting_Pitcher      73     189  27.99   \n",
      "17           Hayden_Penn  BAL  Starting_Pitcher      75     185  22.38   \n",
      "18           Adam_Loewen  BAL  Starting_Pitcher      78     219  22.89   \n",
      "19        Daniel_Cabrera  BAL  Starting_Pitcher      79     230  25.76   \n",
      "20        Steve_Trachsel  BAL  Starting_Pitcher      76     205  36.33   \n",
      "21          Jaret_Wright  BAL  Starting_Pitcher      74     230  31.17   \n",
      "22           Kris_Benson  BAL  Starting_Pitcher      76     195  32.31   \n",
      "23      Scott_Williamson  BAL    Relief_Pitcher      72     180  31.03   \n",
      "24          John_Parrish  BAL    Relief_Pitcher      71     192  29.26   \n",
      "25            Danys_Baez  BAL    Relief_Pitcher      75     225  29.47   \n",
      "26         Chad_Bradford  BAL    Relief_Pitcher      77     203  32.46   \n",
      "27          Jamie_Walker  BAL    Relief_Pitcher      74     195  35.67   \n",
      "28          Brian_Burres  BAL    Relief_Pitcher      73     182  25.89   \n",
      "29          Kurt_Birkins  BAL    Relief_Pitcher      74     188  26.55   \n",
      "...                  ...  ...               ...     ...     ...    ...   \n",
      "985          John_Nelson  STL     First_Baseman      73     190  27.99   \n",
      "986        Albert_Pujols  STL     First_Baseman      75     225  27.12   \n",
      "987         Adam_Kennedy  STL    Second_Baseman      73     185  31.14   \n",
      "988          Aaron_Miles  STL    Second_Baseman      67     180  30.21   \n",
      "989       David_Eckstein  STL         Shortstop      67     165  32.11   \n",
      "990          Scott_Rolen  STL     Third_Baseman      76     240  31.91   \n",
      "991        Scott_Spiezio  STL     Third_Baseman      74     220  34.44   \n",
      "992          Jim_Edmonds  STL        Outfielder      73     212  36.68   \n",
      "993           So_Taguchi  STL        Outfielder      70     163  37.66   \n",
      "994     Juan_Encarnacion  STL        Outfielder      75     215  30.98   \n",
      "995       Skip_Schumaker  STL        Outfielder      70     175  27.07   \n",
      "996       John_Rodriguez  STL        Outfielder      72     205  29.11   \n",
      "997         Chris_Duncan  STL        Outfielder      77     210  25.82   \n",
      "998      Adam_Wainwright  STL  Starting_Pitcher      79     205  25.50   \n",
      "999          Mark_Mulder  STL  Starting_Pitcher      78     208  29.57   \n",
      "1000       Anthony_Reyes  STL  Starting_Pitcher      74     215  25.37   \n",
      "1001       Ryan_Franklin  STL  Starting_Pitcher      75     180  33.99   \n",
      "1002           Kip_Wells  STL  Starting_Pitcher      75     200  29.86   \n",
      "1003     Chris_Carpenter  STL  Starting_Pitcher      78     230  31.84   \n",
      "1004       Russ_Springer  STL    Relief_Pitcher      76     211  38.31   \n",
      "1005  Jason_Isringhausen  STL    Relief_Pitcher      75     230  34.48   \n",
      "1006      Ricardo_Rincon  STL    Relief_Pitcher      69     190  36.88   \n",
      "1007       Braden_Looper  STL    Relief_Pitcher      75     220  32.34   \n",
      "1008        Randy_Flores  STL    Relief_Pitcher      72     180  31.58   \n",
      "1009        Josh_Hancock  STL    Relief_Pitcher      75     205  28.89   \n",
      "1010       Brad_Thompson  STL    Relief_Pitcher      73     190  25.08   \n",
      "1011       Tyler_Johnson  STL    Relief_Pitcher      74     180  25.73   \n",
      "1012      Chris_Narveson  STL    Relief_Pitcher      75     205  25.19   \n",
      "1013       Randy_Keisler  STL    Relief_Pitcher      75     190  31.01   \n",
      "1014         Josh_Kinney  STL    Relief_Pitcher      73     195  27.92   \n",
      "\n",
      "     PosCategory  \n",
      "0        Catcher  \n",
      "1        Catcher  \n",
      "2        Catcher  \n",
      "3      Infielder  \n",
      "4      Infielder  \n",
      "5      Infielder  \n",
      "6      Infielder  \n",
      "7      Infielder  \n",
      "8      Infielder  \n",
      "9     Outfielder  \n",
      "10    Outfielder  \n",
      "11    Outfielder  \n",
      "12    Outfielder  \n",
      "13    Outfielder  \n",
      "14    Outfielder  \n",
      "15    Outfielder  \n",
      "16       Pitcher  \n",
      "17       Pitcher  \n",
      "18       Pitcher  \n",
      "19       Pitcher  \n",
      "20       Pitcher  \n",
      "21       Pitcher  \n",
      "22       Pitcher  \n",
      "23       Pitcher  \n",
      "24       Pitcher  \n",
      "25       Pitcher  \n",
      "26       Pitcher  \n",
      "27       Pitcher  \n",
      "28       Pitcher  \n",
      "29       Pitcher  \n",
      "...          ...  \n",
      "985    Infielder  \n",
      "986    Infielder  \n",
      "987    Infielder  \n",
      "988    Infielder  \n",
      "989    Infielder  \n",
      "990    Infielder  \n",
      "991    Infielder  \n",
      "992   Outfielder  \n",
      "993   Outfielder  \n",
      "994   Outfielder  \n",
      "995   Outfielder  \n",
      "996   Outfielder  \n",
      "997   Outfielder  \n",
      "998      Pitcher  \n",
      "999      Pitcher  \n",
      "1000     Pitcher  \n",
      "1001     Pitcher  \n",
      "1002     Pitcher  \n",
      "1003     Pitcher  \n",
      "1004     Pitcher  \n",
      "1005     Pitcher  \n",
      "1006     Pitcher  \n",
      "1007     Pitcher  \n",
      "1008     Pitcher  \n",
      "1009     Pitcher  \n",
      "1010     Pitcher  \n",
      "1011     Pitcher  \n",
      "1012     Pitcher  \n",
      "1013     Pitcher  \n",
      "1014     Pitcher  \n",
      "\n",
      "[1015 rows x 7 columns]\n"
     ]
    }
   ],
   "source": [
    "import pandas as pd\n",
    "baseball = pd.read_csv(\"../intro_python_datasets/baseball.csv\")\n",
    "print(baseball)"
   ]
  },
  {
   "cell_type": "code",
   "execution_count": 7,
   "metadata": {},
   "outputs": [
    {
     "name": "stdout",
     "output_type": "stream",
     "text": [
      "[[ 74 180]\n",
      " [ 74 215]\n",
      " [ 72 210]\n",
      " ...\n",
      " [ 75 205]\n",
      " [ 75 190]\n",
      " [ 73 195]]\n"
     ]
    }
   ],
   "source": [
    "import numpy as np \n",
    "np_baseball = np.array(baseball.iloc[:, 3:5])\n",
    "print(np_baseball)"
   ]
  },
  {
   "cell_type": "code",
   "execution_count": 8,
   "metadata": {},
   "outputs": [
    {
     "name": "stdout",
     "output_type": "stream",
     "text": [
      "(1015, 2)\n"
     ]
    }
   ],
   "source": [
    "print(np_baseball.shape)"
   ]
  }
 ],
 "metadata": {
  "kernelspec": {
   "display_name": "Python 3",
   "language": "python",
   "name": "python3"
  },
  "language_info": {
   "codemirror_mode": {
    "name": "ipython",
    "version": 3
   },
   "file_extension": ".py",
   "mimetype": "text/x-python",
   "name": "python",
   "nbconvert_exporter": "python",
   "pygments_lexer": "ipython3",
   "version": "3.7.1"
  }
 },
 "nbformat": 4,
 "nbformat_minor": 2
}
