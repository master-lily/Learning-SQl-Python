{
 "cells": [
  {
   "cell_type": "markdown",
   "metadata": {},
   "source": [
    "'''\n",
    "### NumPy Side Effects  \n",
    "50xp  \n",
    "As Filip explained before, numpy is great for doing vector arithmetic. If you compare its\n",
    "functionality with regular Python lists, however, some things have changed.\n",
    "\n",
    "First of all, numpy arrays cannot contain elements with different types. If you try to build\n",
    "such a list, some of the elements' types are changed to end up with a homogeneous list. This\n",
    "is known as type coercion.\n",
    "\n",
    "Second, the typical arithmetic operators, such as +, -, * and / have a different meaning for\n",
    "regular Python lists and numpy arrays.\n",
    "\n",
    "Have a look at this line of code:  \n",
    "\n",
    "np.array([True, 1, 2]) + np.array([3, 4, False])  \n",
    "Can you tell which code chunk builds the exact same Python object? The numpy package is already\n",
    "imported as np, so you can start experimenting in the IPython Shell straight away!\n",
    "\n",
    "\n",
    " Possible Answers\n",
    "- np.array([True, 1, 2, 3, 4, False])\n",
    "- np.array([4, 3, 0]) + np.array([0, 2, 2])\n",
    "- np.array([1, 1, 2]) + np.array([3, 4, -1])\n",
    "- np.array([0, 1, 2, 3, 4, 5])  \n",
    "'''"
   ]
  },
  {
   "cell_type": "code",
   "execution_count": 1,
   "metadata": {},
   "outputs": [],
   "source": [
    "import numpy as np\n"
   ]
  },
  {
   "cell_type": "code",
   "execution_count": 3,
   "metadata": {},
   "outputs": [
    {
     "data": {
      "text/plain": [
       "array([4, 5, 2])"
      ]
     },
     "execution_count": 3,
     "metadata": {},
     "output_type": "execute_result"
    }
   ],
   "source": [
    "np.array([True, 1, 2]) + np.array([3, 4, False]) #Initial code"
   ]
  },
  {
   "cell_type": "code",
   "execution_count": 2,
   "metadata": {},
   "outputs": [
    {
     "data": {
      "text/plain": [
       "array([1, 1, 2, 3, 4, 0])"
      ]
     },
     "execution_count": 2,
     "metadata": {},
     "output_type": "execute_result"
    }
   ],
   "source": [
    "np.array([True, 1, 2, 3, 4, False])"
   ]
  },
  {
   "cell_type": "code",
   "execution_count": 4,
   "metadata": {},
   "outputs": [
    {
     "data": {
      "text/plain": [
       "array([4, 5, 2])"
      ]
     },
     "execution_count": 4,
     "metadata": {},
     "output_type": "execute_result"
    }
   ],
   "source": [
    "np.array([4, 3, 0]) + np.array([0, 2, 2]) #This code build the exact same object"
   ]
  }
 ],
 "metadata": {
  "kernelspec": {
   "display_name": "Python 3",
   "language": "python",
   "name": "python3"
  },
  "language_info": {
   "codemirror_mode": {
    "name": "ipython",
    "version": 3
   },
   "file_extension": ".py",
   "mimetype": "text/x-python",
   "name": "python",
   "nbconvert_exporter": "python",
   "pygments_lexer": "ipython3",
   "version": "3.7.1"
  }
 },
 "nbformat": 4,
 "nbformat_minor": 2
}
