{
 "cells": [
  {
   "cell_type": "markdown",
   "metadata": {},
   "source": [
    "'''\n",
    "### Type conversion  \n",
    "100xp  \n",
    "Using the + operator to paste together two strings can be very useful in building custom messages.\n",
    "\n",
    "\n",
    "Suppose, for example, that you've calculated the return of your investment and want to summarize\n",
    "the results in a string. Assuming the floats savings and result are defined, you can try something\n",
    "like this:  \n",
    "print(\"I started with $\" + savings + \" and now have $\" + result + \". Awesome!\")  \n",
    "This will not work, though, as you cannot simply sum strings and floats.\n",
    "\n",
    "\n",
    "To fix the error, you'll need to explicitly convert the types of your variables. More specifically,\n",
    "you'll need str(), to convert a value into a string. str(savings), for example, will convert the\n",
    "float savings to a string.\n",
    "\n",
    "Similar functions such as int(), float() and bool() will help you convert Python values into any\n",
    "type.\n",
    "\n",
    "\n",
    "### Instructions  \n",
    "Hit Submit Answer to run the code on the right. Try to understand the error message.  \n",
    "Fix the code on the right such that the printout runs without errors; use the function str() to\n",
    "convert the variables to strings.  \n",
    "Convert the variable pi_string to a float and store this float as a new variable, pi_float.  \n",
    "'''"
   ]
  },
  {
   "cell_type": "code",
   "execution_count": 3,
   "metadata": {},
   "outputs": [],
   "source": [
    "# Definition of savings and result\n",
    "savings = 100\n",
    "result = 100 * 1.10 ** 7"
   ]
  },
  {
   "cell_type": "code",
   "execution_count": 4,
   "metadata": {},
   "outputs": [
    {
     "name": "stdout",
     "output_type": "stream",
     "text": [
      "I started with $100 and now have $194.87171000000012. Awesome!\n"
     ]
    }
   ],
   "source": [
    "# Fix the printout\n",
    "print(\"I started with $\" + str(savings) + \" and now have $\" + str(result) + \". Awesome!\")"
   ]
  },
  {
   "cell_type": "code",
   "execution_count": 10,
   "metadata": {},
   "outputs": [
    {
     "name": "stdout",
     "output_type": "stream",
     "text": [
      "<class 'str'>\n"
     ]
    }
   ],
   "source": [
    "# Definition of pi_string\n",
    "pi_string = \"3.1415926\"\n",
    "print(type(pi_string))"
   ]
  },
  {
   "cell_type": "code",
   "execution_count": 9,
   "metadata": {},
   "outputs": [
    {
     "name": "stdout",
     "output_type": "stream",
     "text": [
      "3.1415926\n",
      "<class 'float'>\n"
     ]
    }
   ],
   "source": [
    "# Convert pi_string into float: pi_float\n",
    "pi_float = float(pi_string)\n",
    "print(pi_float)\n",
    "print(type(pi_float))"
   ]
  }
 ],
 "metadata": {
  "kernelspec": {
   "display_name": "Python 3",
   "language": "python",
   "name": "python3"
  },
  "language_info": {
   "codemirror_mode": {
    "name": "ipython",
    "version": 3
   },
   "file_extension": ".py",
   "mimetype": "text/x-python",
   "name": "python",
   "nbconvert_exporter": "python",
   "pygments_lexer": "ipython3",
   "version": "3.7.1"
  }
 },
 "nbformat": 4,
 "nbformat_minor": 2
}
