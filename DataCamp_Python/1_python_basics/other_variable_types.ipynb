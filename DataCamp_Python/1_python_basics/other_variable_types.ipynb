{
 "cells": [
  {
   "cell_type": "markdown",
   "metadata": {},
   "source": [
    "'''\n",
    "### Other variable types\n",
    "\n",
    "100xp\n",
    "\n",
    "In the previous exercise, you worked with two Python data types:\n",
    "\n",
    "***int, or integer***: a number without a fractional part. savings, with the value 100, is an example of an integer.\n",
    "\n",
    "***float, or floating point***: a number that has both an integer and fractional part, separated by a point. factor, with the value 1.10, is an example of a float.\n",
    "\n",
    "Next to numerical data types, there are two other very common data types:\n",
    "\n",
    "***str, or string***: a type to represent text. You can use single or double quotes to build a string.\n",
    "\n",
    "***bool, or boolean***: a type to represent logical values. Can only be True or False (the capitalization is important!).\n",
    "\n",
    "### Instructions\n",
    "\n",
    "1. Create a new string, desc, with the value \"compound interest\".\n",
    "\n",
    "2. Create a new boolean, profitable, with the value True.\n",
    "\n",
    "'''"
   ]
  },
  {
   "cell_type": "code",
   "execution_count": 5,
   "metadata": {},
   "outputs": [
    {
     "name": "stdout",
     "output_type": "stream",
     "text": [
      "<class 'str'>\n",
      "compound interest\n"
     ]
    }
   ],
   "source": [
    "# Create a variable desc\n",
    "desc = \"compound interest\"\n",
    "print(type(desc))\n",
    "print(desc)"
   ]
  },
  {
   "cell_type": "code",
   "execution_count": 4,
   "metadata": {},
   "outputs": [
    {
     "name": "stdout",
     "output_type": "stream",
     "text": [
      "True\n",
      "<class 'bool'>\n"
     ]
    }
   ],
   "source": [
    "# Create a variable profitable\n",
    "profitable = True\n",
    "print(profitable)\n",
    "print(type(profitable))"
   ]
  },
  {
   "cell_type": "code",
   "execution_count": null,
   "metadata": {},
   "outputs": [],
   "source": []
  }
 ],
 "metadata": {
  "kernelspec": {
   "display_name": "Python 3",
   "language": "python",
   "name": "python3"
  },
  "language_info": {
   "codemirror_mode": {
    "name": "ipython",
    "version": 3
   },
   "file_extension": ".py",
   "mimetype": "text/x-python",
   "name": "python",
   "nbconvert_exporter": "python",
   "pygments_lexer": "ipython3",
   "version": "3.7.1"
  }
 },
 "nbformat": 4,
 "nbformat_minor": 2
}
